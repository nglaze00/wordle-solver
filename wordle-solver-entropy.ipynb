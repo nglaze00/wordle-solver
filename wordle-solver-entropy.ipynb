{
 "cells": [
  {
   "cell_type": "code",
   "execution_count": 6,
   "metadata": {},
   "outputs": [],
   "source": [
    "import matplotlib.pyplot as plt\n",
    "from wordle_solver import WordleSolver"
   ]
  },
  {
   "cell_type": "code",
   "execution_count": 7,
   "metadata": {},
   "outputs": [],
   "source": [
    "# load answers + guesses\n",
    "answers = [x[:-1] for x in open('answers.txt').readlines()]\n",
    "guesses = answers + [x[:-1] for x in open('other_guesses.txt').readlines()]"
   ]
  },
  {
   "cell_type": "code",
   "execution_count": 9,
   "metadata": {},
   "outputs": [
    {
     "name": "stdout",
     "output_type": "stream",
     "text": [
      "guessing soare with entropy idk, info 00-00\n",
      "138 answers left, 769 guesses left\n",
      "guessing canty with entropy 1.4568085474773402, info ++000\n",
      "3 answers left, 13 guesses left\n",
      "guessing cabal with entropy 0.4771212547196625, info ++0--\n",
      "1 answers left, 7 guesses left\n",
      "guessing caulk with entropy -0.0, info +++++\n",
      "answer was caulk in 4 guesses\n"
     ]
    },
    {
     "data": {
      "text/plain": [
       "(True, 4)"
      ]
     },
     "execution_count": 9,
     "metadata": {},
     "output_type": "execute_result"
    }
   ],
   "source": [
    "wordle = WordleSolver(guesses, answers, first_guess='soare')\n",
    "wordle.play('caulk')"
   ]
  },
  {
   "cell_type": "code",
   "execution_count": 215,
   "metadata": {},
   "outputs": [
    {
     "name": "stdout",
     "output_type": "stream",
     "text": [
      "3.5972222222222223 2304\n"
     ]
    }
   ],
   "source": [
    "guesses_taken_all = []\n",
    "ct_solved = 0\n",
    "for w in answers:\n",
    "    solved, guesses_taken = play(answers, answers, w, first_guess='raise', show=False)\n",
    "    ct_solved += solved\n",
    "    guesses_taken_all.append(guesses_taken)\n",
    "print(np.mean(guesses_taken_all, where=~np.isnan(guesses_taken_all)), ct_solved)"
   ]
  },
  {
   "cell_type": "code",
   "execution_count": 12,
   "metadata": {},
   "outputs": [
    {
     "name": "stdout",
     "output_type": "stream",
     "text": [
      "3.599132321041215 2305\n"
     ]
    }
   ],
   "source": [
    "guesses_taken_all = []\n",
    "ct_solved = 0\n",
    "for word in answers:\n",
    "    solved, guesses_taken = w.play(word, show=False)\n",
    "    ct_solved += solved\n",
    "    guesses_taken_all.append(guesses_taken)\n",
    "print(np.mean(guesses_taken_all, where=~np.isnan(guesses_taken_all)), ct_solved)"
   ]
  },
  {
   "cell_type": "code",
   "execution_count": 13,
   "metadata": {},
   "outputs": [
    {
     "data": {
      "text/plain": [
       "(array([  81., 1031.,  968.,  181.,   44.]),\n",
       " array([1.5, 2.5, 3.5, 4.5, 5.5, 6.5]),\n",
       " <BarContainer object of 5 artists>)"
      ]
     },
     "execution_count": 13,
     "metadata": {},
     "output_type": "execute_result"
    },
    {
     "data": {
      "image/png": "[encoded data removed]",
      "text/plain": [
       "<Figure size 432x288 with 1 Axes>"
      ]
     },
     "metadata": {
      "needs_background": "light"
     },
     "output_type": "display_data"
    }
   ],
   "source": [
    "plt.hist(guesses_taken_all, bins=[1.5,2.5,3.5,4.5,5.5,6.5])"
   ]
  }
 ],
 "metadata": {
  "interpreter": {
   "hash": "916dbcbb3f70747c44a77c7bcd40155683ae19c65e1c03b4aa3499c5328201f1"
  },
  "kernelspec": {
   "display_name": "Python 3.9.7 64-bit",
   "language": "python",
   "name": "python3"
  },
  "language_info": {
   "codemirror_mode": {
    "name": "ipython",
    "version": 3
   },
   "file_extension": ".py",
   "mimetype": "text/x-python",
   "name": "python",
   "nbconvert_exporter": "python",
   "pygments_lexer": "ipython3",
   "version": "3.9.7"
  },
  "orig_nbformat": 4
 },
 "nbformat": 4,
 "nbformat_minor": 2
}
